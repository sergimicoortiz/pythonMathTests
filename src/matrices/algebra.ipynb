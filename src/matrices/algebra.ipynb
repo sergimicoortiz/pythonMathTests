{
 "cells": [
  {
   "cell_type": "code",
   "execution_count": 1,
   "metadata": {},
   "outputs": [],
   "source": [
    "import numpy as np\n",
    "import sympy as sp\n",
    "from latex2sympy2 import latex2sympy, latex2latex"
   ]
  },
  {
   "attachments": {},
   "cell_type": "markdown",
   "metadata": {},
   "source": [
    "Problema 1:\n",
    "\n",
    "$$\n",
    "\\begin{cases}\n",
    "x + y - z = 10 \\\\\n",
    "x - 2y + 3z = 4 \\\\\n",
    "-x + y - z = 24\n",
    "\\end{cases}\n",
    "$$"
   ]
  },
  {
   "cell_type": "code",
   "execution_count": 2,
   "metadata": {},
   "outputs": [
    {
     "name": "stdout",
     "output_type": "stream",
     "text": [
      "{x: -7, y: 62, z: 45}\n"
     ]
    }
   ],
   "source": [
    "x, y, z = sp.symbols('x y z')\n",
    "\n",
    "e1 = sp.Eq(x+y-z, 10)\n",
    "e2 = sp.Eq(x-2*y+3*z, 4)\n",
    "e3 = sp.Eq(-x+y-z, 24)\n",
    "results = sp.solve([e1, e2, e3], [x, y, z])\n",
    "print(results)\n"
   ]
  },
  {
   "attachments": {},
   "cell_type": "markdown",
   "metadata": {},
   "source": [
    "Problema 2:\n",
    "\n",
    "$$\n",
    "\\begin{cases}\n",
    "x + 2y + 3z = 6 \\\\\n",
    "2x + y - z = 2 \\\\\n",
    "4x + 5y + 5z = 14\n",
    "\\end{cases}\n",
    "$$"
   ]
  },
  {
   "cell_type": "code",
   "execution_count": 3,
   "metadata": {},
   "outputs": [
    {
     "name": "stdout",
     "output_type": "stream",
     "text": [
      "{x: 5*z/3 - 2/3, y: 10/3 - 7*z/3}\n"
     ]
    }
   ],
   "source": [
    "x, y, z = sp.symbols('x y z')\n",
    "\n",
    "e1 = sp.Eq(x+2*y+3*z, 6)\n",
    "e2 = sp.Eq(2*x+y-z, 2)\n",
    "e3 = sp.Eq(4*x+5*y+5*z, 14)\n",
    "results = sp.solve([e1, e2, e3], [x, y, z])\n",
    "print(results)\n"
   ]
  },
  {
   "attachments": {},
   "cell_type": "markdown",
   "metadata": {},
   "source": [
    "Problema 3:\n",
    "\n",
    "$$\n",
    "\\begin{cases}\n",
    "x + y + z = 1 \\\\\n",
    "3x + 2y + z = 1 \\\\\n",
    "x + y + 2z = k\n",
    "\\end{cases}\n",
    "$$"
   ]
  },
  {
   "cell_type": "code",
   "execution_count": 4,
   "metadata": {},
   "outputs": [
    {
     "name": "stdout",
     "output_type": "stream",
     "text": [
      "{x: k - 2, y: 4 - 2*k, z: k - 1}\n"
     ]
    }
   ],
   "source": [
    "x, y, z, k = sp.symbols('x y z k')\n",
    "\n",
    "e1 = sp.Eq(x + y + z, 1)\n",
    "e2 = sp.Eq(3*x + 2*y + z, 1)\n",
    "e3 = sp.Eq(x + y + 2*z, k)\n",
    "results = sp.solve([e1, e2, e3], [x, y, z])\n",
    "print(results)\n"
   ]
  },
  {
   "attachments": {},
   "cell_type": "markdown",
   "metadata": {},
   "source": [
    "Problema 4:\n",
    "\n",
    "$$\n",
    "\\begin{cases}\n",
    "kx - ky + kz = k \\\\\n",
    "(3-2k)z=1 \\\\\n",
    "x+(k-1)y=0\n",
    "\\end{cases}\n",
    "$$"
   ]
  },
  {
   "cell_type": "code",
   "execution_count": 5,
   "metadata": {},
   "outputs": [
    {
     "name": "stdout",
     "output_type": "stream",
     "text": [
      "{x: (2*k**2 - 4*k + 2)/(2*k**2 - 3*k), y: (2 - 2*k)/(2*k**2 - 3*k), z: -1/(2*k - 3)}\n"
     ]
    }
   ],
   "source": [
    "x, y, z, k = sp.symbols('x y z k')\n",
    "# k=0\n",
    "e1 = sp.Eq(k*x - k*y + k*z, k)\n",
    "e2 = sp.Eq((3 - 2*k)*z, 1)\n",
    "e3 = sp.Eq(x + (k - 1)*y, 0)\n",
    "results = sp.solve([e1, e2, e3], [x, y, z])\n",
    "print(results)\n"
   ]
  },
  {
   "attachments": {},
   "cell_type": "markdown",
   "metadata": {},
   "source": [
    "$$\n",
    "\\begin{equation}\n",
    "\\int \\frac{5 x^2-2 x+25}{x^3-6 x^2+25 x} d x\n",
    "\\end{equation}\n",
    "$$"
   ]
  },
  {
   "cell_type": "code",
   "execution_count": 16,
   "metadata": {},
   "outputs": [
    {
     "data": {
      "text/latex": [
       "$\\displaystyle \\log{\\left(x \\right)} + 2 \\log{\\left(x^{2} - 6 x + 25 \\right)} + 4 \\operatorname{atan}{\\left(\\frac{x}{4} - \\frac{3}{4} \\right)}$"
      ],
      "text/plain": [
       "log(x) + 2*log(x**2 - 6*x + 25) + 4*atan(x/4 - 3/4)"
      ]
     },
     "execution_count": 16,
     "metadata": {},
     "output_type": "execute_result"
    }
   ],
   "source": [
    "x= sp.symbols('x')\n",
    "eq_str = r\"\\frac{5 x^2-2 x+25}{x^3-6 x^2+25 x}\"\n",
    "eq = latex2sympy(eq_str)\n",
    "sp.integrate(eq, x)"
   ]
  }
 ],
 "metadata": {
  "kernelspec": {
   "display_name": "Python 3",
   "language": "python",
   "name": "python3"
  },
  "language_info": {
   "codemirror_mode": {
    "name": "ipython",
    "version": 3
   },
   "file_extension": ".py",
   "mimetype": "text/x-python",
   "name": "python",
   "nbconvert_exporter": "python",
   "pygments_lexer": "ipython3",
   "version": "3.10.11"
  },
  "orig_nbformat": 4
 },
 "nbformat": 4,
 "nbformat_minor": 2
}
