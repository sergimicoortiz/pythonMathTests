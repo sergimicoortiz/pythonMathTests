{
 "cells": [
  {
   "attachments": {},
   "cell_type": "markdown",
   "metadata": {},
   "source": [
    "# Matrices\n",
    "En esta notebook vamos a ver cómo trabajar con matrices en Python. Para ello, vamos a utilizar la librería `numpy`."
   ]
  },
  {
   "cell_type": "code",
   "execution_count": 1,
   "metadata": {},
   "outputs": [],
   "source": [
    "import numpy as np\n",
    "import scipy as sp\n",
    "import sympy as sm\n",
    "\n",
    "#Con esta linea de codigo se puede imprimir la matriz con fracciones\n",
    "#https://stackoverflow.com/questions/42209365/numpy-convert-decimals-to-fractions\n",
    "import fractions\n",
    "np.set_printoptions(formatter={'all':lambda x: str(fractions.Fraction(x).limit_denominator())})"
   ]
  },
  {
   "attachments": {},
   "cell_type": "markdown",
   "metadata": {},
   "source": [
    "### Creamos  las matrices\n",
    "$$\n",
    "A = \\begin{pmatrix}\n",
    "5 & 5 & 6 \\\\\n",
    "6 & 4 & 6 \\\\\n",
    "1 & 0 & 6\n",
    "\\end{pmatrix}\n",
    "\n",
    "B = \\begin{pmatrix}\n",
    "6 & 4 & 0 \\\\\n",
    "1 & 4 & 6 \\\\\n",
    "0 & 4 & 2\n",
    "\\end{pmatrix}\n",
    "\n",
    "$$"
   ]
  },
  {
   "cell_type": "code",
   "execution_count": 10,
   "metadata": {},
   "outputs": [],
   "source": [
    "a = np.mat(\n",
    "    [[5, 5, 6],\n",
    "     [6, 4, 6],\n",
    "     [1, 0, 6]])\n",
    "\n",
    "b = np.mat(\n",
    "    [[6, 4, 0],\n",
    "     [1, 4, 6],\n",
    "     [0, 4, 2]])\n",
    "\n",
    "c = sm.Matrix(\n",
    "    [[5, 5, 6],\n",
    "     [6, 4, 6],\n",
    "     [1, 0, 6]])\n",
    "\n",
    "result1 = np.matmul(a, b) # Multiplicacion de matrices\n",
    "b_det = np.linalg.det(b) # Determinante de la matriz b\n",
    "b_range = np.linalg.matrix_rank(b) # Rango de la matriz b\n",
    "c_inv = c.inv() # O tambien c**-1\n",
    "c_t = c.transpose() # Transpuesta de la matriz c\n",
    "\n",
    "# np.linalg.inv(a) para la inversa de la matriz o a.I\n",
    "# Para crear una matriz mejor usar np.mat() y no np.array() ya que np.mat() tiene mas funciones relacionadas con matrices ej: a.I\n",
    "# La propia matriz tiene una funcion T para la transpuesta\n",
    "\n",
    "# print(a.I, '\\n')\n",
    "# print(sp.linalg.inv(a), '\\n')\n",
    "# print(np.matmul(a.I, a), '\\n')\n",
    "# print(a, '\\n')\n",
    "# print(a.T, '\\n')\n",
    "# print(b_det, '\\n')\n",
    "# print(b_range, '\\n')\n"
   ]
  },
  {
   "attachments": {},
   "cell_type": "markdown",
   "metadata": {},
   "source": [
    "### Resolvemos el siguiente sistema de ecuaciones\n",
    "\n",
    "$$\n",
    "\\begin{cases}\n",
    "5x + 5y + 6z = 6 \\\\\n",
    "6x + 4y + 6z = 4 \\\\\n",
    "x + 6z = 6\n",
    "\\end{cases}\n",
    "$$"
   ]
  },
  {
   "cell_type": "code",
   "execution_count": 36,
   "metadata": {},
   "outputs": [
    {
     "name": "stdout",
     "output_type": "stream",
     "text": [
      "[[-10/9]\n",
      " [8/9]\n",
      " [32/27]]\n"
     ]
    }
   ],
   "source": [
    "# Primero creamos las matrices M y N\n",
    "# La matriz M es la matriz de coeficientes del sistema de ecuaciones\n",
    "# Y la matriz N es la matriz ampliada del sistema de ecuaciones que sola tiene la columna de resultados\n",
    "\n",
    "mat_M = np.mat([\n",
    "    [5, 5, 6],\n",
    "    [6, 4, 6],\n",
    "    [1, 0, 6]\n",
    "])\n",
    "\n",
    "mat_M_ampliada = np.mat([[6,4,6]])\n",
    "\n",
    "# Ahora utilizamos la funcion np.linalg.solve() para resolver el sistema de ecuaciones\n",
    "# En el caso de la matriz ampliada se debe transponer para que la funcion np.linalg.solve() la pueda leer\n",
    "solucion = sp.linalg.solve(mat_M, mat_M_ampliada.T)\n",
    "print(solucion)"
   ]
  }
 ],
 "metadata": {
  "kernelspec": {
   "display_name": "Python 3",
   "language": "python",
   "name": "python3"
  },
  "language_info": {
   "codemirror_mode": {
    "name": "ipython",
    "version": 3
   },
   "file_extension": ".py",
   "mimetype": "text/x-python",
   "name": "python",
   "nbconvert_exporter": "python",
   "pygments_lexer": "ipython3",
   "version": "3.10.11"
  },
  "orig_nbformat": 4
 },
 "nbformat": 4,
 "nbformat_minor": 2
}
